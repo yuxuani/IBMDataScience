{
 "cells": [
  {
   "cell_type": "markdown",
   "metadata": {},
   "source": [
    "# Data Science Tools and Ecosystem"
   ]
  },
  {
   "cell_type": "markdown",
   "metadata": {},
   "source": [
    "## Introduction\n",
    "In this notebook, data science tools and ecosystem are summarized."
   ]
  },
  {
   "cell_type": "markdown",
   "metadata": {},
   "source": [
    " **Objectives**:\n",
    " * List popular languages for data science\n",
    " * List commonly used packages and libraries for data science\n",
    " * List commonly used tools for data science\n",
    " * Demonstrate the use of code blocks with simple arithmetic operations"
   ]
  },
  {
   "cell_type": "markdown",
   "metadata": {},
   "source": [
    "## Data Science languages\n",
    "Here are some popular languages for data science:\n",
    "1. Python\n",
    "2. R\n",
    "3. SQL\n",
    "\n",
    "Other popular languages (which are not covered in this course): \n",
    "- Julia\n",
    "- Java\n",
    "- Scala\n",
    "- Matlab"
   ]
  },
  {
   "cell_type": "markdown",
   "metadata": {},
   "source": [
    "## Data Science Libraries\n",
    "Some of the most commonly used libraries used by data scientists include:\n",
    "1. `numpy`,`pandas`- numerical computing, data analysis and manipulation\n",
    "2. `matplotlib`, `seaborn`, `plotly` - data visualization\n",
    "3. `scikit-learn` - machine learning algorithms\n",
    "4. `tensorflow`, `keras`, `pytorch` - deep learning frameworks"
   ]
  },
  {
   "cell_type": "markdown",
   "metadata": {},
   "source": [
    "## Data Science Tools\n",
    "\n",
    "| **Data Science Tools**   | **Features**                                                                 |\n",
    "|--------------------------|-----------------------------------------------------------------------------|\n",
    "| Jupyter Notebook          | interactive coding environment combining text, code blocks, multimedia altogether |\n",
    "| RStudio                  | IDE for R programming providing tools for coding, debugging, data analysis and visualization |\n",
    "| Git & Github | Git: version control system, GitHub: a platform for hosting and collaborating on Git repositories|\n"
   ]
  },
  {
   "cell_type": "markdown",
   "metadata": {},
   "source": [
    "## Code Blocks and Arithmetic Operations"
   ]
  },
  {
   "cell_type": "markdown",
   "metadata": {},
   "source": [
    "Basic arithmetic expression"
   ]
  },
  {
   "cell_type": "code",
   "execution_count": 5,
   "metadata": {},
   "outputs": [
    {
     "data": {
      "text/plain": [
       "17"
      ]
     },
     "execution_count": 5,
     "metadata": {},
     "output_type": "execute_result"
    }
   ],
   "source": [
    "# an simple arithmetic expression with integer multiplication and addition\n",
    "(3 * 4) + 5"
   ]
  },
  {
   "cell_type": "markdown",
   "metadata": {},
   "source": [
    "Converting minutes to hours"
   ]
  },
  {
   "cell_type": "code",
   "execution_count": 4,
   "metadata": {},
   "outputs": [
    {
     "name": "stdout",
     "output_type": "stream",
     "text": [
      "200 min is converted to 3.3333333333333335 hours\n"
     ]
    }
   ],
   "source": [
    "# convert minutes to hours\n",
    "duration_in_min = 200\n",
    "duration_in_hrs = duration_in_min / 60\n",
    "print(f'{duration_in_min} min is converted to {duration_in_hrs} hours') "
   ]
  },
  {
   "cell_type": "markdown",
   "metadata": {},
   "source": [
    "## Author\n",
    "Yuxuan Xie"
   ]
  }
 ],
 "metadata": {
  "kernelspec": {
   "display_name": "IM",
   "language": "python",
   "name": "python3"
  },
  "language_info": {
   "codemirror_mode": {
    "name": "ipython",
    "version": 3
   },
   "file_extension": ".py",
   "mimetype": "text/x-python",
   "name": "python",
   "nbconvert_exporter": "python",
   "pygments_lexer": "ipython3",
   "version": "3.11.3"
  }
 },
 "nbformat": 4,
 "nbformat_minor": 2
}
